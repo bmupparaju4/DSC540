{
 "cells": [
  {
   "cell_type": "markdown",
   "id": "a1b93212-516b-4fb2-9d0a-9cff70eaf648",
   "metadata": {},
   "source": [
    "# Student: Balakrishna Mupparaju\n",
    "# Assignment: Week5 & 6"
   ]
  },
  {
   "cell_type": "markdown",
   "id": "4a005edf-cc0d-4a3f-915f-f3eac7266daa",
   "metadata": {},
   "source": [
    "# Activity 5.01: Reading Tabular Data from a Web Page and Creating DataFrames"
   ]
  },
  {
   "cell_type": "code",
   "execution_count": 15,
   "id": "101c85e1-189e-4b1f-b4e2-0c19f26e2c0a",
   "metadata": {},
   "outputs": [
    {
     "name": "stdout",
     "output_type": "stream",
     "text": [
      "Total number of tables are 9 \n"
     ]
    }
   ],
   "source": [
    "# Import necessary libraries\n",
    "from bs4 import BeautifulSoup  # To parse HTML files\n",
    "import pandas as pd  # For managing tabular data and creating DataFrames\n",
    "\n",
    "# Open and read the local HTML file containing GDP data\n",
    "fd = open(\"/Users/balakrishnamupparaju/Downloads/The-Data-Wrangling-Workshop-master/Chapter05/datasets/List of countries by GDP (nominal) - Wikipedia.htm\", \"r\", encoding=\"utf-8\")\n",
    "soup = BeautifulSoup(fd)  # Parse the file's contents using BeautifulSoup\n",
    "fd.close()  # Close the file to release system resources\n",
    "\n",
    "# Find all tables within the HTML document\n",
    "all_tables = soup.find_all(\"table\")\n",
    "print(\"Total number of tables are {} \".format(len(all_tables)))  # Print total number of tables found\n",
    "\n",
    "\n"
   ]
  },
  {
   "cell_type": "code",
   "execution_count": 16,
   "id": "6c330c9e-1bc8-43ce-a021-17668532d6cc",
   "metadata": {},
   "outputs": [
    {
     "name": "stdout",
     "output_type": "stream",
     "text": [
      "Type of the selected table is: <class 'bs4.element.Tag'>\n",
      "Number of source columns found: 3\n",
      "Number of nested tables found: 3\n",
      "Source names extracted: ['International Monetary Fund', 'World Bank', 'United Nations']\n"
     ]
    }
   ],
   "source": [
    "# Select a specific table based on its class\n",
    "data_table = soup.find(\"table\", {\"class\": '\"wikitable\"|}'})\n",
    "print(\"Type of the selected table is: {}\".format(type(data_table)))  # Confirm the type of the selected table\n",
    "\n",
    "# Extract the first row (likely header-like or meta-data row) of the table\n",
    "sources = data_table.tbody.findAll('tr', recursive=False)[0]\n",
    "\n",
    "# Extract all <td> elements (columns) from the first row\n",
    "sources_list = [td for td in sources.findAll('td')]\n",
    "print(\"Number of source columns found: {}\".format(len(sources_list)))  # Print the number of columns found\n",
    "\n",
    "# Extract the second row (likely the first row of data) in the table\n",
    "data = data_table.tbody.findAll('tr', recursive=False)[1].findAll('td', recursive=False)\n",
    "\n",
    "# Initialize an empty list to store nested tables found within the main table\n",
    "data_tables = []\n",
    "for td in data:\n",
    "    data_tables.append(td.findAll('table'))  # Find any nested tables in each column and append to the list\n",
    "print(\"Number of nested tables found: {}\".format(len(data_tables)))  # Print the total count of nested tables\n",
    "\n",
    "# Extract source names from the header row by finding anchor tags (<a>)\n",
    "source_names = [source.findAll('a')[0].getText() for source in sources_list]\n",
    "print(\"Source names extracted: {}\".format(source_names))  # Print the source names found"
   ]
  },
  {
   "cell_type": "code",
   "execution_count": 17,
   "id": "ea94738b-2701-4285-b4c1-29c433ed8027",
   "metadata": {},
   "outputs": [
    {
     "name": "stdout",
     "output_type": "stream",
     "text": [
      "Headers for the first table: ['Rank', 'Country', 'GDP(US$MM)']\n",
      "First DataFrame preview:\n",
      "  Rank        Country  GDP(US$MM)\n",
      "0           World[19]  79,865,481\n",
      "1    1  United States  19,390,600\n",
      "2    2     China[n 1]  12,014,610\n",
      "3    3          Japan   4,872,135\n",
      "4    4        Germany   3,684,816\n"
     ]
    }
   ],
   "source": [
    "# ----- FIRST TABLE -----\n",
    "# Extract headers (column names) from the first nested table\n",
    "header1 = [th.getText().strip() for th in data_tables[0][0].findAll('thead')[0].findAll('th')]\n",
    "print(\"Headers for the first table: {}\".format(header1))  # Print the headers of the first nested table\n",
    "\n",
    "# Extract all rows of data from the first nested table\n",
    "rows1 = data_tables[0][0].findAll('tbody')[0].findAll('tr')\n",
    "data_rows1 = [[td.get_text().strip() for td in tr.findAll('td')] for tr in rows1]\n",
    "\n",
    "# Create a DataFrame for the first table\n",
    "df1 = pd.DataFrame(data_rows1, columns=header1)\n",
    "print(\"First DataFrame preview:\")\n",
    "print(df1.head())  # Display the first few rows of the DataFrame"
   ]
  },
  {
   "cell_type": "code",
   "execution_count": 18,
   "id": "afa3fcb9-eba6-40c9-9294-112d3320f36f",
   "metadata": {},
   "outputs": [
    {
     "name": "stdout",
     "output_type": "stream",
     "text": [
      "Headers for the second table: ['Rank', 'Country', 'GDP(US$MM)']\n",
      "Second DataFrame preview:\n",
      "  Rank             Country  GDP(US$MM)\n",
      "0                    World  80,683,787\n",
      "1    1       United States  19,390,604\n",
      "2       European Union[23]  17,277,698\n",
      "3    2          China[n 4]  12,237,700\n",
      "4    3               Japan   4,872,137\n"
     ]
    }
   ],
   "source": [
    "# ----- SECOND TABLE -----\n",
    "# Extract headers from the second nested table\n",
    "header2 = [th.getText().strip() for th in data_tables[1][0].findAll('thead')[0].findAll('th')]\n",
    "print(\"Headers for the second table: {}\".format(header2))  # Print the headers of the second nested table\n",
    "\n",
    "# Extract all rows of data from the second nested table\n",
    "rows2 = data_tables[1][0].findAll('tbody')[0].findAll('tr')\n",
    "\n",
    "# Define a helper function to clean and extract the desired text\n",
    "def find_right_text(i, td):\n",
    "    if i == 0:  # First column logic\n",
    "        return td.getText().strip()\n",
    "    elif i == 1:  # Second column logic\n",
    "        return td.getText().strip()\n",
    "    else:  # For other columns, extract text after the ♠ symbol\n",
    "        index = td.text.find(\"♠\")\n",
    "        return td.text[index+1:].strip()\n",
    "\n",
    "# Apply the helper function to process all data rows\n",
    "data_rows2 = [[find_right_text(i, td) for i, td in enumerate(tr.findAll('td'))] for tr in rows2]\n",
    "\n",
    "# Create a DataFrame for the second table\n",
    "df2 = pd.DataFrame(data_rows2, columns=header2)\n",
    "print(\"Second DataFrame preview:\")\n",
    "print(df2.head())  # Display the first few rows of the DataFrame\n",
    "\n"
   ]
  },
  {
   "cell_type": "code",
   "execution_count": 19,
   "id": "1fa852b4-e680-439f-b510-345765aa9bf8",
   "metadata": {},
   "outputs": [
    {
     "name": "stdout",
     "output_type": "stream",
     "text": [
      "Headers for the third table: ['Rank', 'Country', 'GDP(US$MM)']\n",
      "Third DataFrame preview:\n",
      "  Rank        Country  GDP(US$MM)\n",
      "0           World[24]  75,648,448\n",
      "1    1  United States  18,624,475\n",
      "2    2     China[n 4]  11,218,281\n",
      "3    3          Japan   4,936,211\n",
      "4    4        Germany   3,477,796\n"
     ]
    }
   ],
   "source": [
    "# ----- THIRD TABLE -----\n",
    "# Extract headers from the third nested table\n",
    "header3 = [th.getText().strip() for th in data_tables[2][0].findAll('thead')[0].findAll('th')]\n",
    "print(\"Headers for the third table: {}\".format(header3))  # Print the headers of the third nested table\n",
    "\n",
    "# Extract all rows of data from the third nested table\n",
    "rows3 = data_tables[2][0].findAll('tbody')[0].findAll('tr')\n",
    "\n",
    "# Apply the helper function to process all data rows\n",
    "data_rows3 = [[find_right_text(i, td) for i, td in enumerate(tr.findAll('td'))] for tr in rows3]\n",
    "\n",
    "# Create a DataFrame for the third table\n",
    "df3 = pd.DataFrame(data_rows3, columns=header3)\n",
    "print(\"Third DataFrame preview:\")\n",
    "print(df3.head())  # Display the first few rows of the DataFrame"
   ]
  },
  {
   "cell_type": "markdown",
   "id": "69c5d353-84ac-4eb7-8c66-2b9b49317bd7",
   "metadata": {},
   "source": [
    "# Activity 6.01: Handling Outliers and Missing Data\n",
    "\n",
    "In this activity, we will identify and get rid of outliers. Here, we have a CSV file. The goal here is to clean the data by using the knowledge that we have learned about so far and come up with a nicely formatted DataFrame. Identify the type of outliers and their effect on the data and clean the messy data."
   ]
  },
  {
   "cell_type": "code",
   "execution_count": 28,
   "id": "e1ca0348-c81b-4548-b540-5d77916c7843",
   "metadata": {},
   "outputs": [
    {
     "name": "stdout",
     "output_type": "stream",
     "text": [
      "Loaded dataset preview:\n",
      "   id first_name last_name                       email gender  \\\n",
      "0   1      Sonny      Dahl            sdahl0@mysql.com   Male   \n",
      "1   2        NaN       NaN           dhoovart1@hud.gov    NaN   \n",
      "2   3        Gar     Armal      garmal2@technorati.com    NaN   \n",
      "3   4    Chiarra     Nulty       cnulty3@newyorker.com    NaN   \n",
      "4   5        NaN       NaN  sleaver4@elegantthemes.com    NaN   \n",
      "\n",
      "        ip_address   visit  \n",
      "0    135.36.96.183  1225.0  \n",
      "1  237.165.194.143   919.0  \n",
      "2   166.43.137.224   271.0  \n",
      "3   139.98.137.108  1002.0  \n",
      "4    46.117.117.27  2434.0  \n"
     ]
    }
   ],
   "source": [
    "# Import required libraries\n",
    "import pandas as pd  # For working with tabular data\n",
    "import numpy as np  # For numerical operations\n",
    "import matplotlib.pyplot as plt  # For visualizing data\n",
    "\n",
    "# Enable inline plotting for visualizing graphs directly in notebooks\n",
    "%matplotlib inline\n",
    "\n",
    "# Step 1: Load the dataset from the given CSV file\n",
    "df = pd.read_csv(\"/Users/balakrishnamupparaju/Downloads/The-Data-Wrangling-Workshop-master/Chapter06/datasets/visit_data.csv\")\n",
    "print(\"Loaded dataset preview:\")\n",
    "print(df.head())  # Display the first 5 rows of the dataset\n",
    "\n"
   ]
  },
  {
   "cell_type": "code",
   "execution_count": 29,
   "id": "c5295bf2-bf64-4d6f-83cd-2bb13e4c2f15",
   "metadata": {},
   "outputs": [
    {
     "name": "stdout",
     "output_type": "stream",
     "text": [
      "First name has duplicates: True\n",
      "Last name has duplicates: True\n",
      "Email has duplicates: False\n"
     ]
    }
   ],
   "source": [
    "\n",
    "# Step 2: Check for duplicate entries in important columns\n",
    "print(\"First name has duplicates: {}\".format(any(df.first_name.duplicated())))\n",
    "print(\"Last name has duplicates: {}\".format(any(df.last_name.duplicated())))\n",
    "print(\"Email has duplicates: {}\".format(any(df.email.duplicated())))\n",
    "\n"
   ]
  },
  {
   "cell_type": "code",
   "execution_count": 30,
   "id": "24921f8d-bf02-44b2-acef-99bcc4abb7c7",
   "metadata": {},
   "outputs": [
    {
     "name": "stdout",
     "output_type": "stream",
     "text": [
      "Email column contains missing values: False\n",
      "IP Address column contains missing values: False\n",
      "Visit column contains missing values: True\n"
     ]
    }
   ],
   "source": [
    "# Step 3: Check for missing (NaN) values in critical columns\n",
    "print(\"Email column contains missing values: {}\".format(df.email.isnull().values.any()))\n",
    "print(\"IP Address column contains missing values: {}\".format(df.ip_address.isnull().values.any()))\n",
    "print(\"Visit column contains missing values: {}\".format(df.visit.isnull().values.any()))\n",
    "\n"
   ]
  },
  {
   "cell_type": "code",
   "execution_count": 32,
   "id": "3c95e3a8-e695-4077-a412-eb582372779d",
   "metadata": {},
   "outputs": [],
   "source": [
    "# Step 4: Record the size of the original dataset for comparison\n",
    "size_prev = df.shape  # Get the shape of the DataFrame (rows, columns)\n",
    "\n",
    "\n",
    "# Step 5: Remove rows where the 'visit' column has NaN or non-numeric values\n",
    "df = df[np.isfinite(df['visit'])]  # Filter rows with finite numeric values in the 'visit' column\n",
    "size_after = df.shape  # Get the new shape after cleaning\n",
    "\n"
   ]
  },
  {
   "cell_type": "code",
   "execution_count": 33,
   "id": "92151434-2e97-4948-8871-7d4da93f674b",
   "metadata": {},
   "outputs": [
    {
     "name": "stdout",
     "output_type": "stream",
     "text": [
      "Original data size: 1000 rows.\n",
      "Data size after removing NaN/invalid 'visit' values: 974 rows.\n"
     ]
    }
   ],
   "source": [
    "# Step 6: Print size comparison of the DataFrame before and after cleaning\n",
    "print(\"Original data size: {} rows.\".format(size_prev[0]))\n",
    "print(\"Data size after removing NaN/invalid 'visit' values: {} rows.\".format(size_after[0]))\n",
    "\n"
   ]
  },
  {
   "cell_type": "code",
   "execution_count": 34,
   "id": "b0c40f9e-d5e1-4d6b-b4ce-9fb92d3b429d",
   "metadata": {},
   "outputs": [
    {
     "data": {
      "image/png": "[encoded data removed]",
      "text/plain": [
       "<Figure size 640x480 with 1 Axes>"
      ]
     },
     "metadata": {},
     "output_type": "display_data"
    }
   ],
   "source": [
    "# Step 7: Visualize the 'visit' column to identify potential outliers\n",
    "plt.boxplot(df.visit, notch=True)\n",
    "plt.title(\"Boxplot of 'visit' column\")\n",
    "plt.show()\n",
    "\n",
    "#Boxplot Visualization: Helps in identifying the distribution and spotting outliers.\n"
   ]
  },
  {
   "cell_type": "code",
   "execution_count": 35,
   "id": "1a6d3a36-6433-4bb4-bb5a-f019db4eb6ee",
   "metadata": {},
   "outputs": [
    {
     "name": "stdout",
     "output_type": "stream",
     "text": [
      "Data size after removing outliers: 923 rows.\n"
     ]
    }
   ],
   "source": [
    "# Step 8: Remove outliers based on 'visit' value thresholds\n",
    "# Keep rows where 'visit' values are within a reasonable range (100 to 2900)\n",
    "df1 = df[(df['visit'] <= 2900) & (df['visit'] >= 100)]\n",
    "print(\"Data size after removing outliers: {} rows.\".format(df1.shape[0]))\n"
   ]
  },
  {
   "cell_type": "code",
   "execution_count": 36,
   "id": "3afede95-7185-4102-9196-9210dd9370f2",
   "metadata": {},
   "outputs": [
    {
     "name": "stdout",
     "output_type": "stream",
     "text": [
      "Cleaned dataset preview:\n",
      "   id first_name last_name                       email gender  \\\n",
      "0   1      Sonny      Dahl            sdahl0@mysql.com   Male   \n",
      "1   2        NaN       NaN           dhoovart1@hud.gov    NaN   \n",
      "2   3        Gar     Armal      garmal2@technorati.com    NaN   \n",
      "3   4    Chiarra     Nulty       cnulty3@newyorker.com    NaN   \n",
      "4   5        NaN       NaN  sleaver4@elegantthemes.com    NaN   \n",
      "\n",
      "        ip_address   visit  \n",
      "0    135.36.96.183  1225.0  \n",
      "1  237.165.194.143   919.0  \n",
      "2   166.43.137.224   271.0  \n",
      "3   139.98.137.108  1002.0  \n",
      "4    46.117.117.27  2434.0  \n"
     ]
    }
   ],
   "source": [
    "\n",
    "# Final output preview\n",
    "print(\"Cleaned dataset preview:\")\n",
    "print(df1.head())"
   ]
  },
  {
   "cell_type": "code",
   "execution_count": null,
   "id": "82a6db50-73cc-40c3-b3e5-a8d9d5e67cc7",
   "metadata": {},
   "outputs": [],
   "source": []
  }
 ],
 "metadata": {
  "kernelspec": {
   "display_name": "Python 3 (ipykernel)",
   "language": "python",
   "name": "python3"
  },
  "language_info": {
   "codemirror_mode": {
    "name": "ipython",
    "version": 3
   },
   "file_extension": ".py",
   "mimetype": "text/x-python",
   "name": "python",
   "nbconvert_exporter": "python",
   "pygments_lexer": "ipython3",
   "version": "3.12.9"
  }
 },
 "nbformat": 4,
 "nbformat_minor": 5
}
