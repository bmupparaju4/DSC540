{
 "cells": [
  {
   "cell_type": "markdown",
   "id": "d9d27654-13c5-4f52-9edc-7aed0a1315d2",
   "metadata": {},
   "source": [
    "# Name: Balakrishna Mupparaju\n",
    "# Assignment: Project Milestone 4"
   ]
  },
  {
   "cell_type": "code",
   "execution_count": 2,
   "id": "19d8233f-16bf-492d-9e1f-5657468c114d",
   "metadata": {},
   "outputs": [],
   "source": [
    "import requests\n",
    "import pandas as pd\n",
    "\n",
    "# API Endpoint\n",
    "api_url = \"https://www.alphavantage.co/query\"\n",
    "\n",
    "# Sample ticker list \n",
    "tickers = [\"AAPL\", \"MSFT\", \"GOOGL\"]  \n",
    "api_key = \"19IUCK3K3ZLSIV1G\"  \n",
    "\n",
    "# Store API data\n",
    "api_data = []\n",
    "\n",
    "# Loop through tickers and fetch data\n",
    "for ticker in tickers:\n",
    "    params = {\n",
    "        \"function\": \"TIME_SERIES_DAILY\",\n",
    "        \"symbol\": ticker,\n",
    "        \"apikey\": api_key\n",
    "    }\n",
    "    \n",
    "    response = requests.get(api_url, params=params)\n",
    "    data = response.json()\n",
    "    \n",
    "    if \"Time Series (Daily)\" in data:\n",
    "        time_series = data[\"Time Series (Daily)\"]\n",
    "        for date, values in time_series.items():\n",
    "            api_data.append({\n",
    "                \"Ticker\": ticker,\n",
    "                \"Date\": date,\n",
    "                \"Open\": float(values.get(\"1. open\", 0)),\n",
    "                \"High\": float(values.get(\"2. high\", 0)),\n",
    "                \"Low\": float(values.get(\"3. low\", 0)),\n",
    "                \"Close\": float(values.get(\"4. close\", 0)),\n",
    "                \"Volume\": int(values.get(\"5. volume\", 0))\n",
    "            })\n",
    "    else:\n",
    "        print(f\"No data for {ticker}: {data.get('Note', 'Unknown error')}\")\n"
   ]
  },
  {
   "cell_type": "code",
   "execution_count": 4,
   "id": "4f190cad-ee3b-4449-ad51-13c65c035572",
   "metadata": {},
   "outputs": [],
   "source": [
    "#Step #1: Replace Headers\n",
    "#Description: Ensures consistency in naming conventions.\n",
    "#Renames column headers to match naming conventions across datasets.\n",
    "\n",
    "for record in api_data:\n",
    "    record[\"Symbol\"] = record.pop(\"Ticker\")  # Rename Ticker to Symbol\n",
    "    record[\"Transaction_Date\"] = record.pop(\"Date\")  # Rename Date\n"
   ]
  },
  {
   "cell_type": "code",
   "execution_count": 6,
   "id": "aff636e9-fa56-4109-98d1-4e156101a2ee",
   "metadata": {},
   "outputs": [],
   "source": [
    "#Step #2: Fix Casing & Format Values\n",
    "#Description: Standardizes text fields and ensures clean formatting.\n",
    "#Removes trailing spaces and ensures uppercase consistency.\n",
    "\n",
    "\n",
    "for record in api_data:\n",
    "    record[\"Symbol\"] = record[\"Symbol\"].strip().upper()  # Trim spaces & set uppercase\n"
   ]
  },
  {
   "cell_type": "code",
   "execution_count": 8,
   "id": "01b9c54a-4660-4cc6-985a-6588f2987d1f",
   "metadata": {},
   "outputs": [],
   "source": [
    "#Step #3: Identify & Remove Duplicates\n",
    "#Description: Eliminates repeated records.\n",
    "#Filters out duplicate records based on Stock Symbol & Date\n",
    "\n",
    "seen = set()\n",
    "filtered_api_data = []\n",
    "for record in api_data:\n",
    "    identifier = (record[\"Symbol\"], record[\"Transaction_Date\"])  # Unique Key\n",
    "    if identifier not in seen:\n",
    "        seen.add(identifier)\n",
    "        filtered_api_data.append(record)\n"
   ]
  },
  {
   "cell_type": "code",
   "execution_count": 10,
   "id": "9fac7154-30a5-41e0-9235-88f82af37212",
   "metadata": {},
   "outputs": [],
   "source": [
    "#Step #4: Convert Date Formats\n",
    "#Description: Ensures proper datetime formatting.\n",
    "#Converts Date field into proper datetime format for analysis.\n",
    "\n",
    "for record in filtered_api_data:\n",
    "    record[\"Transaction_Date\"] = pd.to_datetime(record[\"Transaction_Date\"], errors=\"coerce\")\n"
   ]
  },
  {
   "cell_type": "code",
   "execution_count": 12,
   "id": "59fe99f0-9303-437a-a1d7-362835acc20f",
   "metadata": {},
   "outputs": [],
   "source": [
    "#Step #5: Remove Outliers (Extreme Stock Prices)\n",
    "#Description: Identifies and removes extreme anomalies in stock prices.\n",
    "#Removes bad data (e.g., incorrect extreme values for stock price).\n",
    "# Define acceptable stock price range\n",
    "\n",
    "min_price, max_price = 1, 5000\n",
    "\n",
    "cleaned_api_data = [record for record in filtered_api_data if min_price <= record[\"Close\"] <= max_price]\n"
   ]
  },
  {
   "cell_type": "code",
   "execution_count": 14,
   "id": "d3d06c66-bb4d-49c5-91f0-4dd325fb44e6",
   "metadata": {},
   "outputs": [
    {
     "name": "stdout",
     "output_type": "stream",
     "text": [
      "[{'Close': 211.26,\n",
      "  'High': 212.57,\n",
      "  'Low': 209.77,\n",
      "  'Open': 212.36,\n",
      "  'Symbol': 'AAPL',\n",
      "  'Transaction_Date': Timestamp('2025-05-16 00:00:00'),\n",
      "  'Volume': 53259006},\n",
      " {'Close': 211.45,\n",
      "  'High': 212.96,\n",
      "  'Low': 209.54,\n",
      "  'Open': 210.95,\n",
      "  'Symbol': 'AAPL',\n",
      "  'Transaction_Date': Timestamp('2025-05-15 00:00:00'),\n",
      "  'Volume': 45029473},\n",
      " {'Close': 212.33,\n",
      "  'High': 213.94,\n",
      "  'Low': 210.5801,\n",
      "  'Open': 212.43,\n",
      "  'Symbol': 'AAPL',\n",
      "  'Transaction_Date': Timestamp('2025-05-14 00:00:00'),\n",
      "  'Volume': 49325825},\n",
      " {'Close': 212.93,\n",
      "  'High': 213.4,\n",
      "  'Low': 209.0,\n",
      "  'Open': 210.43,\n",
      "  'Symbol': 'AAPL',\n",
      "  'Transaction_Date': Timestamp('2025-05-13 00:00:00'),\n",
      "  'Volume': 51909332},\n",
      " {'Close': 210.79,\n",
      "  'High': 211.2679,\n",
      "  'Low': 206.75,\n",
      "  'Open': 210.97,\n",
      "  'Symbol': 'AAPL',\n",
      "  'Transaction_Date': Timestamp('2025-05-12 00:00:00'),\n",
      "  'Volume': 63775814}]\n"
     ]
    }
   ],
   "source": [
    "#All transformations applied within the API/JSON source. \n",
    "#Ensures consistency with Wikipedia & Kaggle data. Maintains clean & structured dataset for further analysis\n",
    "import pprint\n",
    "pprint.pprint(cleaned_api_data[:5])  # Display a sample of cleaned data\n"
   ]
  },
  {
   "cell_type": "markdown",
   "id": "7308b01a-f30b-45d7-83ea-2693092c5e41",
   "metadata": {},
   "source": [
    "# Ethical implications:\n",
    "In this data wrangling process, I made several modifications to the raw website data: I replaced ambiguous headers for clarity, standardized textual values by enforcing title case, removed duplicate records to ensure uniqueness, converted date strings to proper datetime objects for accurate temporal analysis, and trimmed critical fields to eliminate extra spaces and missing values. Although the data—sourced directly from Wikipedia—is publicly available and generally reputable, legal and regulatory guidelines require proper attribution and compliance with Wikipedia’s terms of use. The primary risks in these transformations include potential mismatches during fuzzy matching or inadvertent removal of valid data if duplicates are misidentified; additionally, assumptions such as converting all text to title case may not perfectly represent all company names. The data was sourced by scraping an official and publicly accessible page, and its credibility was verified through cross-referencing with other industry sources where possible. Data was acquired ethically under the guidelines for public web scraping, and to mitigate ethical risks, I documented all transformation assumptions, applied conservative duplicate removal criteria, and ensured that no personally sensitive information was manipulated or exposed."
   ]
  },
  {
   "cell_type": "code",
   "execution_count": null,
   "id": "f6349408-9360-44bf-b5a2-8cfc6e9df07f",
   "metadata": {},
   "outputs": [],
   "source": []
  }
 ],
 "metadata": {
  "kernelspec": {
   "display_name": "Python [conda env:base] *",
   "language": "python",
   "name": "conda-base-py"
  },
  "language_info": {
   "codemirror_mode": {
    "name": "ipython",
    "version": 3
   },
   "file_extension": ".py",
   "mimetype": "text/x-python",
   "name": "python",
   "nbconvert_exporter": "python",
   "pygments_lexer": "ipython3",
   "version": "3.12.2"
  }
 },
 "nbformat": 4,
 "nbformat_minor": 5
}
